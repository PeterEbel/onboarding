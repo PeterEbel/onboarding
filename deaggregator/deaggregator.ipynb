{
 "cells": [
  {
   "cell_type": "code",
   "execution_count": 6,
   "metadata": {},
   "outputs": [],
   "source": [
    "import pandas as pd\n",
    "import numpy as np\n",
    "from utils import data_generation"
   ]
  },
  {
   "cell_type": "markdown",
   "metadata": {},
   "source": [
    "Import data files"
   ]
  },
  {
   "cell_type": "code",
   "execution_count": 7,
   "metadata": {},
   "outputs": [],
   "source": [
    "file_cars = \"fz1_cars.xlsx\"\n",
    "file_bikes = \"fz1_motorbikes.xlsx\"\n",
    "file_others = \"fz1_trucks.xlsx\"\n",
    "\n",
    "cars = pd.read_excel(file_cars)\n",
    "bikes = pd.read_excel(file_bikes)\n",
    "others = pd.read_excel(file_others)  "
   ]
  },
  {
   "cell_type": "markdown",
   "metadata": {},
   "source": [
    "Define table structure from original data to new format"
   ]
  },
  {
   "cell_type": "code",
   "execution_count": 8,
   "metadata": {},
   "outputs": [],
   "source": [
    "motorcycle_map = {\n",
    "    'Federal State' : 'Federal State',\n",
    "    'State District': 'State District',\n",
    "    'Municipality ' : 'Municipality ',\n",
    "    'Two wheels' : 'Number of Wheels',\n",
    "    'Three wheels' : 'Number of Wheels',\n",
    "    'Four wheels' : 'Number of Wheels',\n",
    "    'Female bike owners': 'Female Owner',\n",
    "    'Year': 'Year'\n",
    "}"
   ]
  },
  {
   "cell_type": "markdown",
   "metadata": {},
   "source": [
    "Generate deaggregated data for Motorbikes"
   ]
  },
  {
   "cell_type": "code",
   "execution_count": 9,
   "metadata": {},
   "outputs": [],
   "source": [
    "#generate deaggregated table (P.S. this might take a few minutes)\n",
    "data_motorcycles = data_generation.gen_table(data=bikes,vehicle_type='motorbike',column_dict=motorcycle_map)"
   ]
  },
  {
   "cell_type": "markdown",
   "metadata": {},
   "source": [
    "Save generated data to CSV file"
   ]
  },
  {
   "cell_type": "code",
   "execution_count": 5,
   "metadata": {},
   "outputs": [],
   "source": [
    "data_motorcycles.to_csv('fz1_motorcycle_big.csv')"
   ]
  },
  {
   "cell_type": "code",
   "execution_count": null,
   "metadata": {},
   "outputs": [],
   "source": []
  }
 ],
 "metadata": {
  "kernelspec": {
   "display_name": "Python 3 (ipykernel)",
   "language": "python",
   "name": "python3"
  },
  "language_info": {
   "codemirror_mode": {
    "name": "ipython",
    "version": 3
   },
   "file_extension": ".py",
   "mimetype": "text/x-python",
   "name": "python",
   "nbconvert_exporter": "python",
   "pygments_lexer": "ipython3",
   "version": "3.10.13"
  }
 },
 "nbformat": 4,
 "nbformat_minor": 4
}
